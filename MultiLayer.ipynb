{
  "nbformat": 4,
  "nbformat_minor": 0,
  "metadata": {
    "colab": {
      "name": "MultiLayer.ipynb",
      "provenance": [],
      "authorship_tag": "ABX9TyPk0fCKTyZNyQzgyYWBBOtT",
      "include_colab_link": true
    },
    "kernelspec": {
      "name": "python3",
      "display_name": "Python 3"
    }
  },
  "cells": [
    {
      "cell_type": "markdown",
      "metadata": {
        "id": "view-in-github",
        "colab_type": "text"
      },
      "source": [
        "<a href=\"https://colab.research.google.com/github/themanoftalent/pyt-colab/blob/master/MultiLayer.ipynb\" target=\"_parent\"><img src=\"https://colab.research.google.com/assets/colab-badge.svg\" alt=\"Open In Colab\"/></a>"
      ]
    },
    {
      "cell_type": "code",
      "metadata": {
        "id": "TIFT3AlfmZ5W",
        "colab_type": "code",
        "colab": {}
      },
      "source": [
        "import tensorflow as tf\n"
      ],
      "execution_count": 0,
      "outputs": []
    },
    {
      "cell_type": "code",
      "metadata": {
        "id": "co5F21qHmuUw",
        "colab_type": "code",
        "colab": {}
      },
      "source": [
        "from tensorflow.examples.tutorials.mnist import input_data"
      ],
      "execution_count": 0,
      "outputs": []
    },
    {
      "cell_type": "code",
      "metadata": {
        "id": "1mxsuA_zm3J7",
        "colab_type": "code",
        "colab": {
          "base_uri": "https://localhost:8080/",
          "height": 84
        },
        "outputId": "3990fd6d-88fe-49b1-86b0-7c4f64453320"
      },
      "source": [
        "mnist=input_data.read_data_sets(\"/data/MNIST/\",one_hot=True)"
      ],
      "execution_count": 70,
      "outputs": [
        {
          "output_type": "stream",
          "text": [
            "Extracting /data/MNIST/train-images-idx3-ubyte.gz\n",
            "Extracting /data/MNIST/train-labels-idx1-ubyte.gz\n",
            "Extracting /data/MNIST/t10k-images-idx3-ubyte.gz\n",
            "Extracting /data/MNIST/t10k-labels-idx1-ubyte.gz\n"
          ],
          "name": "stdout"
        }
      ]
    },
    {
      "cell_type": "markdown",
      "metadata": {
        "id": "bYIKxTibnLqB",
        "colab_type": "text"
      },
      "source": [
        "x <br>\n",
        "y_true\n",
        "w\n",
        "b\n",
        "logits <br>\n",
        "layer1"
      ]
    },
    {
      "cell_type": "code",
      "metadata": {
        "id": "LZ4SNbqhn5On",
        "colab_type": "code",
        "colab": {}
      },
      "source": [
        "x=tf.placeholder(tf.float32,[None,784])\n",
        "y_true=tf.placeholder(tf.float32,[None,10])"
      ],
      "execution_count": 0,
      "outputs": []
    },
    {
      "cell_type": "code",
      "metadata": {
        "id": "BQ9pXBilnFZ1",
        "colab_type": "code",
        "colab": {}
      },
      "source": [
        "layer_1=128\n",
        "layer_2=64\n",
        "layer_3=32\n",
        "layer_out=10"
      ],
      "execution_count": 0,
      "outputs": []
    },
    {
      "cell_type": "code",
      "metadata": {
        "id": "LEQ8_pPXnoA4",
        "colab_type": "code",
        "colab": {}
      },
      "source": [
        "weigh_1 =tf.Variable(tf.truncated_normal([784,layer_1],stddev=0.1))\n",
        "bias_1  =tf.Variable(tf.constant(0.1, shape=[layer_1]))"
      ],
      "execution_count": 0,
      "outputs": []
    },
    {
      "cell_type": "code",
      "metadata": {
        "id": "Mo26qaHEn0rR",
        "colab_type": "code",
        "colab": {}
      },
      "source": [
        "weigh_2 =tf.Variable(tf.truncated_normal([layer_1,layer_2],stddev=0.1))\n",
        "bias_2  =tf.Variable(tf.constant(0.1, shape=[layer_2]))"
      ],
      "execution_count": 0,
      "outputs": []
    },
    {
      "cell_type": "code",
      "metadata": {
        "id": "jAfTcoQSo5g4",
        "colab_type": "code",
        "colab": {}
      },
      "source": [
        "weigh_3 =tf.Variable(tf.truncated_normal([layer_2,layer_3],stddev=0.1))\n",
        "bias_3  =tf.Variable(tf.constant(0.1, shape=[layer_3]))"
      ],
      "execution_count": 0,
      "outputs": []
    },
    {
      "cell_type": "code",
      "metadata": {
        "id": "DlIpx2QNo6Oe",
        "colab_type": "code",
        "colab": {}
      },
      "source": [
        "weigh_4 =tf.Variable(tf.truncated_normal([layer_3,layer_out],stddev=0.1))\n",
        "bias_4  =tf.Variable(tf.constant(0.1, shape=[layer_out]))"
      ],
      "execution_count": 0,
      "outputs": []
    },
    {
      "cell_type": "code",
      "metadata": {
        "id": "WL9oQEMApi2I",
        "colab_type": "code",
        "colab": {}
      },
      "source": [
        "y1=tf.nn.relu(tf.matmul(x,weigh_1)+bias_1)\n",
        "y2=tf.nn.relu(tf.matmul(y1,weigh_2)+bias_2)\n",
        "y3=tf.nn.relu(tf.matmul(y2,weigh_3)+bias_3)\n",
        "logits=tf.matmul(y3,weigh_4)+bias_4\n",
        "y4=tf.nn.softmax(logits)"
      ],
      "execution_count": 0,
      "outputs": []
    },
    {
      "cell_type": "code",
      "metadata": {
        "id": "zCUQjKDRqPiO",
        "colab_type": "code",
        "colab": {}
      },
      "source": [
        "xent=tf.nn.softmax_cross_entropy_with_logits_v2(logits=logits,labels=y_true)"
      ],
      "execution_count": 0,
      "outputs": []
    },
    {
      "cell_type": "code",
      "metadata": {
        "id": "62X3zOPDrFqe",
        "colab_type": "code",
        "colab": {}
      },
      "source": [
        "loss=tf.reduce_mean(xent)"
      ],
      "execution_count": 0,
      "outputs": []
    },
    {
      "cell_type": "code",
      "metadata": {
        "id": "whee4btQraAc",
        "colab_type": "code",
        "colab": {}
      },
      "source": [
        "correct_prediction=tf.equal(tf.argmax(y4,1),tf.argmax(y_true,1))"
      ],
      "execution_count": 0,
      "outputs": []
    },
    {
      "cell_type": "code",
      "metadata": {
        "id": "rUMWcHNXrZ1E",
        "colab_type": "code",
        "colab": {}
      },
      "source": [
        "accuracy=tf.reduce_mean(tf.cast(correct_prediction,tf.float32))"
      ],
      "execution_count": 0,
      "outputs": []
    },
    {
      "cell_type": "code",
      "metadata": {
        "id": "itP0ZJvOq0ah",
        "colab_type": "code",
        "colab": {}
      },
      "source": [
        "#optimize=tf.train.GradientDescentOptimizer(0.5).minimize(loss)\n",
        "optimize=tf.train.AdadeltaOptimizer(0.001).minimize(loss)"
      ],
      "execution_count": 0,
      "outputs": []
    },
    {
      "cell_type": "code",
      "metadata": {
        "id": "y7ivCj_yq83U",
        "colab_type": "code",
        "colab": {}
      },
      "source": [
        "sess=tf.Session()\n",
        "sess.run(tf.global_variables_initializer())"
      ],
      "execution_count": 0,
      "outputs": []
    },
    {
      "cell_type": "code",
      "metadata": {
        "id": "_RrFVOcmsCm3",
        "colab_type": "code",
        "colab": {}
      },
      "source": [
        "batch_size=128"
      ],
      "execution_count": 0,
      "outputs": []
    },
    {
      "cell_type": "code",
      "metadata": {
        "id": "CppbvIPfru8x",
        "colab_type": "code",
        "colab": {}
      },
      "source": [
        "def train_step(iter):\n",
        "  for i in range(iter):\n",
        "    x_batch,y_batch=mnist.train.next_batch(batch_size=bacth_size)\n",
        "    dict_train={x:x_batch, y_true:y_batch}\n",
        "    sess.run(optimize,feed_dict=dict_train)"
      ],
      "execution_count": 0,
      "outputs": []
    },
    {
      "cell_type": "code",
      "metadata": {
        "id": "oLX7TE3LsEp0",
        "colab_type": "code",
        "colab": {}
      },
      "source": [
        "def test_step():\n",
        "\n",
        "  dict_test={x:mnist.test.images, y_true:mnist.test.labels}\n",
        "  acc=sess.run(accuracy, feed_dict=dict_test)\n",
        "  print(acc)"
      ],
      "execution_count": 0,
      "outputs": []
    },
    {
      "cell_type": "code",
      "metadata": {
        "id": "UZyA6NCtsZo1",
        "colab_type": "code",
        "colab": {
          "base_uri": "https://localhost:8080/",
          "height": 33
        },
        "outputId": "c5e9a172-a421-425c-d80c-20847d5d5615"
      },
      "source": [
        "train_step(100)\n",
        "test_step()"
      ],
      "execution_count": 93,
      "outputs": [
        {
          "output_type": "stream",
          "text": [
            "0.0949\n"
          ],
          "name": "stdout"
        }
      ]
    },
    {
      "cell_type": "code",
      "metadata": {
        "id": "MKUxZ4Rfsowo",
        "colab_type": "code",
        "colab": {}
      },
      "source": [
        ""
      ],
      "execution_count": 0,
      "outputs": []
    }
  ]
}