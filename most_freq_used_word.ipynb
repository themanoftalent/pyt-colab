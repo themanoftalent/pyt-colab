{
  "nbformat": 4,
  "nbformat_minor": 0,
  "metadata": {
    "colab": {
      "name": "most freq used word.ipynb",
      "provenance": [],
      "collapsed_sections": [],
      "authorship_tag": "ABX9TyM/gXeCoXkKklzUI8/DmmUa",
      "include_colab_link": true
    },
    "kernelspec": {
      "name": "python3",
      "display_name": "Python 3"
    },
    "language_info": {
      "name": "python"
    }
  },
  "cells": [
    {
      "cell_type": "markdown",
      "metadata": {
        "id": "view-in-github",
        "colab_type": "text"
      },
      "source": [
        "<a href=\"https://colab.research.google.com/github/themanoftalent/pyt-colab/blob/master/most_freq_used_word.ipynb\" target=\"_parent\"><img src=\"https://colab.research.google.com/assets/colab-badge.svg\" alt=\"Open In Colab\"/></a>"
      ]
    },
    {
      "cell_type": "code",
      "metadata": {
        "id": "KVT7iGVcsOou"
      },
      "source": [
        "from collections import Counter\n",
        "import re\n",
        "\n",
        "\n",
        "def top_3_words(text):\n",
        "    c = Counter(re.findall(r\"[a-z']+\", re.sub(r\" '+ \", \" \", text.lower())))\n",
        "    return [w for w,_ in c.most_common(3)]"
      ],
      "execution_count": 2,
      "outputs": []
    },
    {
      "cell_type": "code",
      "metadata": {
        "id": "6FBr6xmJ90Qo",
        "colab": {
          "base_uri": "https://localhost:8080/"
        },
        "outputId": "e08c1fd3-4b4e-4547-8405-20ffbda240d8"
      },
      "source": [
        "top_3_words(\"bhuiyan, QueenK, 5hy0w1, MARAL1365, tt10, QueenK,yeyzon,abu, LogicalX, QueenK,abu \")"
      ],
      "execution_count": 6,
      "outputs": [
        {
          "output_type": "execute_result",
          "data": {
            "text/plain": [
              "['queenk', 'abu', 'bhuiyan']"
            ]
          },
          "metadata": {
            "tags": []
          },
          "execution_count": 6
        }
      ]
    },
    {
      "cell_type": "code",
      "metadata": {
        "id": "HCjkhPMakqj_"
      },
      "source": [
        ""
      ],
      "execution_count": null,
      "outputs": []
    }
  ]
}